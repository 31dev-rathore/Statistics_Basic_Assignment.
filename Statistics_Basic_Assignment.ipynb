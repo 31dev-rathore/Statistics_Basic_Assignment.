{
  "nbformat": 4,
  "nbformat_minor": 0,
  "metadata": {
    "colab": {
      "provenance": []
    },
    "kernelspec": {
      "name": "python3",
      "display_name": "Python 3"
    },
    "language_info": {
      "name": "python"
    }
  },
  "cells": [
    {
      "cell_type": "markdown",
      "source": [
        "# **Theory Questions**"
      ],
      "metadata": {
        "id": "zbp600Eoq0MH"
      }
    },
    {
      "cell_type": "markdown",
      "source": [
        "Q1. What is statistics, and why is it important?\n",
        "\n",
        "Statistics is the science of collecting, analyzing, interpreting, and presenting data. It is crucial because it helps us make informed decisions by providing a way to understand and interpret complex datasets."
      ],
      "metadata": {
        "id": "tr-kKrL_q_Kp"
      }
    },
    {
      "cell_type": "markdown",
      "source": [
        "Q2: What are the two main types of statistics?\n",
        "\n",
        "The two main types of statistics are descriptive statistics and inferential statistics."
      ],
      "metadata": {
        "id": "Zo7bxg2sq_PW"
      }
    },
    {
      "cell_type": "markdown",
      "source": [
        "Q3: What are descriptive statistics?\n",
        "\n",
        "Descriptive statistics summarize and organize data so it can be easily understood. Examples include measures of central tendency like mean, median, and mode, and measures of variability such as range and standard deviation."
      ],
      "metadata": {
        "id": "FVKxVq36q_SP"
      }
    },
    {
      "cell_type": "markdown",
      "source": [
        "Q4: What is inferential statistics?\n",
        "\n",
        "Inferential statistics involve making predictions or inferences about a population based on a sample of data. It's used to test hypotheses and determine relationships between variables.\n",
        "\n"
      ],
      "metadata": {
        "id": "fr8lVc2bq_Vt"
      }
    },
    {
      "cell_type": "markdown",
      "source": [
        "Q5: What is sampling in statistics?\n",
        "\n",
        "Sampling is the process of selecting a subset of individuals from a population to estimate characteristics of the whole population."
      ],
      "metadata": {
        "id": "Q0LIw-XXq_ZA"
      }
    },
    {
      "cell_type": "markdown",
      "source": [
        "Q6: What are the different types of sampling methods?\n",
        "\n",
        "Common sampling methods include simple random sampling, stratified sampling, cluster sampling, and systematic sampling.\n"
      ],
      "metadata": {
        "id": "_RMKZxqXrxQF"
      }
    },
    {
      "cell_type": "markdown",
      "source": [
        "Q7: What is the difference between random and non-random sampling?\n",
        "\n",
        "Random sampling ensures every individual has an equal chance of being selected, minimizing bias. Non-random sampling, such as convenience sampling, does not provide every individual an equal chance, which can introduce bias."
      ],
      "metadata": {
        "id": "e9fWShMUrxT5"
      }
    },
    {
      "cell_type": "markdown",
      "source": [
        "Q8: Define and give examples of qualitative and quantitative data.\n",
        "\n",
        "Qualitative data describes categories or qualities (e.g., colors, brands). Quantitative data is numerical and can be measured (e.g., height, weight).\n"
      ],
      "metadata": {
        "id": "f1AYudELrxXt"
      }
    },
    {
      "cell_type": "markdown",
      "source": [
        "Q9: What are the different types of data in statistics?\n",
        "\n",
        "Types of data include nominal, ordinal, interval, and ratio data."
      ],
      "metadata": {
        "id": "pG-5zHZ9rxbJ"
      }
    },
    {
      "cell_type": "markdown",
      "source": [
        "Q10: Explain nominal, ordinal, interval, and ratio levels of measurement.\n",
        "\n",
        "Nominal: Categorical data without a natural order.\n",
        "\n",
        "Ordinal: Categorical data with a natural order.\n",
        "\n",
        "Interval: Numerical data without a true zero (e.g., temperature).\n",
        "\n",
        "Ratio: Numerical data with a true zero (e.g., height).\n"
      ],
      "metadata": {
        "id": "dtqP9tblsHUF"
      }
    },
    {
      "cell_type": "markdown",
      "source": [
        "Q11: What is the measure of central tendency?\n",
        "\n",
        "The measure of central tendency is a single value that describes the center of a data set. It includes mean, median, and mode."
      ],
      "metadata": {
        "id": "BNe1jpw4sHW5"
      }
    },
    {
      "cell_type": "markdown",
      "source": [
        "Q12: Define mean, median, and mode.\n",
        "\n",
        "Mean is the average of a data set.\n",
        "\n",
        "Median is the middle value when data is ordered.\n",
        "\n",
        "Mode is the most frequently occurring value.\n"
      ],
      "metadata": {
        "id": "dw9-bVsusHaP"
      }
    },
    {
      "cell_type": "markdown",
      "source": [
        "Q13: What is the significance of the measure of central tendency?\n",
        "\n",
        "It provides a summary statistic that represents a typical value in a dataset, helping in comparative analysis."
      ],
      "metadata": {
        "id": "j1_0D2beslnf"
      }
    },
    {
      "cell_type": "markdown",
      "source": [
        "Q14: What is variance, and how is it calculated?\n",
        "\n",
        "Variance measures how much values in a data set differ from the mean. It's calculated as the average of the squared differences between each data point and the mean.\n"
      ],
      "metadata": {
        "id": "5CGQW-53slqQ"
      }
    },
    {
      "cell_type": "markdown",
      "source": [
        "Q15: What is standard deviation, and why is it important?\n",
        "\n",
        "Standard deviation is the square root of the variance, indicating how spread out the data is. It is important for understanding variability and comparing different datasets."
      ],
      "metadata": {
        "id": "_AriSVO1slts"
      }
    },
    {
      "cell_type": "markdown",
      "source": [
        "Q16: Define and explain the term range in statistics.\n",
        "\n",
        "The range is the difference between the highest and lowest values in a dataset. It gives an overview of the data’s spread."
      ],
      "metadata": {
        "id": "-6nsAZDttBnj"
      }
    },
    {
      "cell_type": "markdown",
      "source": [
        "Q17: What is the difference between variance and standard deviation?\n",
        "\n",
        "Variance is the average squared deviation from the mean, while standard deviation is the square root of the variance. Both measure data spread, but standard deviation is in the same units as the data.\n"
      ],
      "metadata": {
        "id": "Qk3htmZ9tBqO"
      }
    },
    {
      "cell_type": "markdown",
      "source": [
        "Q18: What is skewness in a dataset?\n",
        "\n",
        "Skewness indicates asymmetry in the distribution of data. It shows whether data is skewed to the left or right."
      ],
      "metadata": {
        "id": "K2Op6k-itBsb"
      }
    },
    {
      "cell_type": "markdown",
      "source": [
        "Q18: What is skewness in a dataset?\n",
        "\n",
        "Skewness indicates asymmetry in the distribution of data. It shows whether data is skewed to the left or right.\n",
        "\n"
      ],
      "metadata": {
        "id": "Zt0Tl2gYtBv9"
      }
    },
    {
      "cell_type": "markdown",
      "source": [
        "Q19: What does it mean if a dataset is positively or negatively skewed?\n",
        "\n",
        "A positively skewed dataset has a longer right tail. A negatively skewed dataset has a longer left tail.\n"
      ],
      "metadata": {
        "id": "UceJ2B1btZ__"
      }
    },
    {
      "cell_type": "markdown",
      "source": [
        "Q20: Define and explain kurtosis.\n",
        "\n",
        "Kurtosis measures the \"tailedness\" of a distribution. High kurtosis indicates heavy tails, while low kurtosis indicates light tails.\n",
        "\n"
      ],
      "metadata": {
        "id": "1gQ5ajzNtdXf"
      }
    },
    {
      "cell_type": "markdown",
      "source": [
        "Q21: What is the purpose of covariance?\n",
        "\n",
        "Covariance measures the direction of the linear relationship between two variables. It shows whether an increase in one variable will result in an increase or decrease in another.\n"
      ],
      "metadata": {
        "id": "NNdaqamttdah"
      }
    },
    {
      "cell_type": "markdown",
      "source": [
        "Q22: What does correlation measure in statistics?\n",
        "\n",
        "Correlation measures the strength and direction of a linear relationship between two variables, ranging from -1 to 1.\n",
        "\n"
      ],
      "metadata": {
        "id": "-uCXsapGtddz"
      }
    },
    {
      "cell_type": "markdown",
      "source": [
        "Q23: What is the difference between covariance and correlation?\n",
        "\n",
        "Covariance shows the direction of a relationship, while correlation indicates both the strength and direction, standardized between -1 and 1."
      ],
      "metadata": {
        "id": "gEJ0kexdtogQ"
      }
    },
    {
      "cell_type": "markdown",
      "source": [
        "Q24: What are some real-world applications of statistics?\n",
        "\n",
        "Statistics are used in various fields including market research, quality control, business forecasting, medicine, and social sciences, facilitating data-driven decisions."
      ],
      "metadata": {
        "id": "09tcP6-Xtojc"
      }
    },
    {
      "cell_type": "markdown",
      "source": [
        "# **Practical Question**"
      ],
      "metadata": {
        "id": "YXMbwuWytzAn"
      }
    },
    {
      "cell_type": "markdown",
      "source": [
        "Q1: How do you calculate the mean, median, and mode of a dataset?"
      ],
      "metadata": {
        "id": "qXdJLx7jt3wh"
      }
    },
    {
      "cell_type": "code",
      "source": [
        "import numpy as np\n",
        "from scipy import stats\n",
        "\n",
        "data = [10, 20, 20, 30, 40]\n",
        "mean = np.mean(data)\n",
        "median = np.median(data)\n",
        "mode = stats.mode(data)\n",
        "\n",
        "print(mean, median, mode.mode)\n",
        ""
      ],
      "metadata": {
        "colab": {
          "base_uri": "https://localhost:8080/"
        },
        "id": "vdpnz3JNt7ap",
        "outputId": "33f99e4e-d27f-4dd3-d603-e39d0283dbd9"
      },
      "execution_count": 1,
      "outputs": [
        {
          "output_type": "stream",
          "name": "stdout",
          "text": [
            "24.0 20.0 20\n"
          ]
        }
      ]
    },
    {
      "cell_type": "markdown",
      "source": [
        "Q2: Write a Python program to compute the variance and standard deviation of a dataset."
      ],
      "metadata": {
        "id": "MNrjBXbiuER6"
      }
    },
    {
      "cell_type": "code",
      "source": [
        "data = [10, 20, 20, 30, 40]\n",
        "variance = np.var(data)\n",
        "std_deviation = np.std(data)\n",
        "\n",
        "variance, std_deviation"
      ],
      "metadata": {
        "colab": {
          "base_uri": "https://localhost:8080/"
        },
        "id": "WkaCl602t-G4",
        "outputId": "527b8513-4292-446c-bff1-48cbae8ff2fe"
      },
      "execution_count": 2,
      "outputs": [
        {
          "output_type": "execute_result",
          "data": {
            "text/plain": [
              "(np.float64(104.0), np.float64(10.198039027185569))"
            ]
          },
          "metadata": {},
          "execution_count": 2
        }
      ]
    },
    {
      "cell_type": "markdown",
      "source": [
        "Q3: Create a dataset and classify it into nominal, ordinal, interval, and ratio types."
      ],
      "metadata": {
        "id": "7Nqs2EPwuLiq"
      }
    },
    {
      "cell_type": "code",
      "source": [
        "dataset = {\n",
        "    \"Nominal\": [\"Red\", \"Blue\", \"Green\"],\n",
        "    \"Ordinal\": [\"Small\", \"Medium\", \"Large\"],\n",
        "    \"Interval\": [-10, 0, 10],\n",
        "    \"Ratio\": [5, 10, 15]\n",
        "}\n",
        "dataset"
      ],
      "metadata": {
        "colab": {
          "base_uri": "https://localhost:8080/"
        },
        "id": "bYQahERMuQst",
        "outputId": "159124a0-784b-4d06-f4d2-867947e4b052"
      },
      "execution_count": 4,
      "outputs": [
        {
          "output_type": "execute_result",
          "data": {
            "text/plain": [
              "{'Nominal': ['Red', 'Blue', 'Green'],\n",
              " 'Ordinal': ['Small', 'Medium', 'Large'],\n",
              " 'Interval': [-10, 0, 10],\n",
              " 'Ratio': [5, 10, 15]}"
            ]
          },
          "metadata": {},
          "execution_count": 4
        }
      ]
    },
    {
      "cell_type": "markdown",
      "source": [
        "Q4: Implement sampling techniques like random sampling and stratified sampling."
      ],
      "metadata": {
        "id": "p1ymh1O8uZN5"
      }
    },
    {
      "cell_type": "code",
      "source": [
        "from sklearn.model_selection import train_test_split\n",
        "\n",
        "data = range(1, 101)\n",
        "random_sample = np.random.choice(data, 10, replace=False)\n",
        "\n",
        "# For stratified sampling, assuming some stratification variable\n",
        "labels = ['A', 'B']\n",
        "stratified_sample, _ = train_test_split(data, test_size=0.9, stratify=[labels[i%2] for i in data])\n",
        "\n",
        "random_sample, stratified_sample\n",
        ""
      ],
      "metadata": {
        "colab": {
          "base_uri": "https://localhost:8080/"
        },
        "id": "bqOd4v2YuTTB",
        "outputId": "fb0734ac-d860-4d4c-f8c5-755a7dee0730"
      },
      "execution_count": 5,
      "outputs": [
        {
          "output_type": "execute_result",
          "data": {
            "text/plain": [
              "(array([52, 71, 12, 66,  5, 58, 72, 59, 42, 62]),\n",
              " [73, 16, 25, 91, 90, 31, 54, 21, 22, 46])"
            ]
          },
          "metadata": {},
          "execution_count": 5
        }
      ]
    },
    {
      "cell_type": "markdown",
      "source": [
        "Q5: Write a Python function to calculate the range of a dataset."
      ],
      "metadata": {
        "id": "29sCh2hnvjUH"
      }
    },
    {
      "cell_type": "code",
      "source": [
        "def calculate_range(data):\n",
        "    return np.max(data) - np.min(data)\n",
        "\n",
        "range_value = calculate_range(data)\n",
        "range_value"
      ],
      "metadata": {
        "colab": {
          "base_uri": "https://localhost:8080/"
        },
        "id": "vYtueFouvsig",
        "outputId": "bd7747dd-4ef3-4ec7-ef31-fa17df685a5c"
      },
      "execution_count": 6,
      "outputs": [
        {
          "output_type": "execute_result",
          "data": {
            "text/plain": [
              "np.int64(99)"
            ]
          },
          "metadata": {},
          "execution_count": 6
        }
      ]
    },
    {
      "cell_type": "markdown",
      "source": [
        "Q6: Create a dataset and plot its histogram to visualize skewness."
      ],
      "metadata": {
        "id": "OHeFkDTNvjW0"
      }
    },
    {
      "cell_type": "code",
      "source": [
        "import matplotlib.pyplot as plt\n",
        "\n",
        "data = np.random.normal(0, 1, 1000)  # Normally distributed\n",
        "plt.hist(data, bins=30)\n",
        "plt.title('Histogram of Data')\n",
        "plt.show()"
      ],
      "metadata": {
        "colab": {
          "base_uri": "https://localhost:8080/",
          "height": 452
        },
        "id": "rQFzMZvQvxuw",
        "outputId": "6025daf0-2bb3-4d93-ba93-0b3ebb121752"
      },
      "execution_count": 7,
      "outputs": [
        {
          "output_type": "display_data",
          "data": {
            "text/plain": [
              "<Figure size 640x480 with 1 Axes>"
            ],
            "image/png": "[encoded data removed]"
          },
          "metadata": {}
        }
      ]
    },
    {
      "cell_type": "markdown",
      "source": [
        "Q7: Calculate skewness and kurtosis of a dataset using Python libraries."
      ],
      "metadata": {
        "id": "eshTGeKtvjZ5"
      }
    },
    {
      "cell_type": "code",
      "source": [
        "from scipy.stats import skew, kurtosis\n",
        "\n",
        "skewness = skew(data)\n",
        "kurt = kurtosis(data)\n",
        "\n",
        "skewness, kurt"
      ],
      "metadata": {
        "colab": {
          "base_uri": "https://localhost:8080/"
        },
        "id": "KsVbcbl8v4SX",
        "outputId": "150270af-92e7-4925-a324-ca369fe0a88c"
      },
      "execution_count": 8,
      "outputs": [
        {
          "output_type": "execute_result",
          "data": {
            "text/plain": [
              "(np.float64(0.16602421123672653), np.float64(0.0023752964960519485))"
            ]
          },
          "metadata": {},
          "execution_count": 8
        }
      ]
    },
    {
      "cell_type": "markdown",
      "source": [
        "Q8: Generate a dataset and demonstrate positive and negative skewness."
      ],
      "metadata": {
        "id": "IG32vVUJv7W5"
      }
    },
    {
      "cell_type": "code",
      "source": [
        "positive_skewed_data = np.random.exponential(scale=2, size=1000)\n",
        "negative_skewed_data = 1 / (np.random.exponential(scale=1, size=1000) + 1)\n",
        "\n",
        "plt.hist(positive_skewed_data, bins=30)\n",
        "plt.title('Positive Skewness')\n",
        "plt.show()\n",
        "\n",
        "plt.hist(negative_skewed_data, bins=30)\n",
        "plt.title('Negative Skewness')\n",
        "plt.show()\n",
        ""
      ],
      "metadata": {
        "colab": {
          "base_uri": "https://localhost:8080/",
          "height": 887
        },
        "id": "RLDhZRMtv6lu",
        "outputId": "53f1478b-8697-4040-b9d5-58c802394e0b"
      },
      "execution_count": 9,
      "outputs": [
        {
          "output_type": "display_data",
          "data": {
            "text/plain": [
              "<Figure size 640x480 with 1 Axes>"
            ],
            "image/png": "[encoded data removed]"
          },
          "metadata": {}
        },
        {
          "output_type": "display_data",
          "data": {
            "text/plain": [
              "<Figure size 640x480 with 1 Axes>"
            ],
            "image/png": "[encoded data removed]"
          },
          "metadata": {}
        }
      ]
    },
    {
      "cell_type": "markdown",
      "source": [
        "Q9: Write a Python script to calculate covariance between two datasets.\n",
        "\n"
      ],
      "metadata": {
        "id": "GRpGsa_jwCoE"
      }
    },
    {
      "cell_type": "code",
      "source": [
        "x = [10, 20, 30]\n",
        "y = [12, 24, 36]\n",
        "covariance = np.cov(x, y)[0][1]\n",
        "covariance\n",
        ""
      ],
      "metadata": {
        "colab": {
          "base_uri": "https://localhost:8080/"
        },
        "id": "0QNWCG4DwBWD",
        "outputId": "aa59ab39-b303-4bca-8b3f-a2dc57b624a4"
      },
      "execution_count": 10,
      "outputs": [
        {
          "output_type": "execute_result",
          "data": {
            "text/plain": [
              "np.float64(120.0)"
            ]
          },
          "metadata": {},
          "execution_count": 10
        }
      ]
    },
    {
      "cell_type": "markdown",
      "source": [
        "Q10: Write a Python script to calculate the correlation coefficient between two datasets."
      ],
      "metadata": {
        "id": "QgYcXl1NwJoa"
      }
    },
    {
      "cell_type": "code",
      "source": [
        "correlation = np.corrcoef(x, y)[0][1]\n",
        "correlation"
      ],
      "metadata": {
        "colab": {
          "base_uri": "https://localhost:8080/"
        },
        "id": "HpRegsz1wH7F",
        "outputId": "986d0226-9114-42ac-c8c3-c2e1656411d6"
      },
      "execution_count": 11,
      "outputs": [
        {
          "output_type": "execute_result",
          "data": {
            "text/plain": [
              "np.float64(1.0)"
            ]
          },
          "metadata": {},
          "execution_count": 11
        }
      ]
    },
    {
      "cell_type": "markdown",
      "source": [
        "Q11: Create a scatter plot to visualize the relationship between two variables"
      ],
      "metadata": {
        "id": "GEqtDLPGwPKS"
      }
    },
    {
      "cell_type": "code",
      "source": [
        "plt.scatter(x, y)\n",
        "plt.title('Scatter Plot')\n",
        "plt.xlabel('X')\n",
        "plt.ylabel('Y')\n",
        "plt.show()\n",
        ""
      ],
      "metadata": {
        "colab": {
          "base_uri": "https://localhost:8080/",
          "height": 472
        },
        "id": "CXub3BC6wOdV",
        "outputId": "a98ee7a4-fb38-41ab-ba4e-dff07ea2dd1a"
      },
      "execution_count": 12,
      "outputs": [
        {
          "output_type": "display_data",
          "data": {
            "text/plain": [
              "<Figure size 640x480 with 1 Axes>"
            ],
            "image/png": "[encoded data removed]"
          },
          "metadata": {}
        }
      ]
    },
    {
      "cell_type": "markdown",
      "source": [
        "Q12: Implement and compare simple random sampling and systematic sampling.\n"
      ],
      "metadata": {
        "id": "4FFeiyPowVrX"
      }
    },
    {
      "cell_type": "code",
      "source": [
        "simple_random = np.random.choice(data, 10, replace=False)\n",
        "\n",
        "# Systematic sampling\n",
        "interval = len(data) // 10\n",
        "systematic_sample = [data[i] for i in range(0, len(data), interval)]\n",
        "\n",
        "simple_random, systematic_sample"
      ],
      "metadata": {
        "colab": {
          "base_uri": "https://localhost:8080/"
        },
        "id": "Jkq4JKoPwUox",
        "outputId": "8f90f367-ba86-4072-aacc-e912c3f8a151"
      },
      "execution_count": 13,
      "outputs": [
        {
          "output_type": "execute_result",
          "data": {
            "text/plain": [
              "(array([ 1.11938008, -1.20288234, -0.45114767,  1.54532649,  0.33327749,\n",
              "        -1.14851056, -1.44198483, -0.89784234,  0.67099516,  0.47114458]),\n",
              " [np.float64(-0.7570653085030091),\n",
              "  np.float64(-1.0961106515781287),\n",
              "  np.float64(0.22201620581537385),\n",
              "  np.float64(-0.44864595056280365),\n",
              "  np.float64(-0.12867206758933905),\n",
              "  np.float64(-2.4367342113137003),\n",
              "  np.float64(0.4897742858077118),\n",
              "  np.float64(-1.114934545154343),\n",
              "  np.float64(-0.5256325209463417),\n",
              "  np.float64(-1.6627150817742617)])"
            ]
          },
          "metadata": {},
          "execution_count": 13
        }
      ]
    },
    {
      "cell_type": "markdown",
      "source": [
        "Q13: Calculate the mean, median, and mode of grouped data."
      ],
      "metadata": {
        "id": "8_oJgESwwchw"
      }
    },
    {
      "cell_type": "code",
      "source": [
        "grouped_data = [5, 10, 10, 15, 20]\n",
        "mean = np.mean(grouped_data)\n",
        "median = np.median(grouped_data)\n",
        "mode = stats.mode(grouped_data)\n",
        "\n",
        "mean, median, mode.mode"
      ],
      "metadata": {
        "colab": {
          "base_uri": "https://localhost:8080/"
        },
        "id": "KRzfPiEWwbnp",
        "outputId": "ac39d8bd-c435-4e0a-f02f-450d30487156"
      },
      "execution_count": 14,
      "outputs": [
        {
          "output_type": "execute_result",
          "data": {
            "text/plain": [
              "(np.float64(12.0), np.float64(10.0), np.int64(10))"
            ]
          },
          "metadata": {},
          "execution_count": 14
        }
      ]
    },
    {
      "cell_type": "markdown",
      "source": [
        "Q14: Simulate data using Python and calculate its central tendency and dispersion."
      ],
      "metadata": {
        "id": "EtW5i1bNwjOk"
      }
    },
    {
      "cell_type": "code",
      "source": [
        "sim_data = np.random.normal(0, 1, 1000)\n",
        "mean = np.mean(sim_data)\n",
        "median = np.median(sim_data)\n",
        "std_dev = np.std(sim_data)\n",
        "\n",
        "mean, median, std_dev"
      ],
      "metadata": {
        "colab": {
          "base_uri": "https://localhost:8080/"
        },
        "id": "9qPhrc-mwhRx",
        "outputId": "a4f72b99-fa16-48bb-fa26-3bde8d4f52d9"
      },
      "execution_count": 15,
      "outputs": [
        {
          "output_type": "execute_result",
          "data": {
            "text/plain": [
              "(np.float64(-0.0072701826086533795),\n",
              " np.float64(-0.013552981531694326),\n",
              " np.float64(0.9925355993549309))"
            ]
          },
          "metadata": {},
          "execution_count": 15
        }
      ]
    },
    {
      "cell_type": "markdown",
      "source": [
        "Q15: Use NumPy or pandas to summarize a dataset’s descriptive statistics."
      ],
      "metadata": {
        "id": "sIuoxMYWwqZC"
      }
    },
    {
      "cell_type": "code",
      "source": [
        "import pandas as pd\n",
        "\n",
        "df = pd.DataFrame(sim_data, columns=['Values'])\n",
        "summary = df.describe()\n",
        "\n",
        "summary"
      ],
      "metadata": {
        "colab": {
          "base_uri": "https://localhost:8080/",
          "height": 300
        },
        "id": "UV3nqbHuwppi",
        "outputId": "7792016b-bf72-4445-ffc7-c23e6a63bd8b"
      },
      "execution_count": 16,
      "outputs": [
        {
          "output_type": "execute_result",
          "data": {
            "text/plain": [
              "            Values\n",
              "count  1000.000000\n",
              "mean     -0.007270\n",
              "std       0.993032\n",
              "min      -2.978302\n",
              "25%      -0.657838\n",
              "50%      -0.013553\n",
              "75%       0.665629\n",
              "max       3.709635"
            ],
            "text/html": [
              "\n",
              "  <div id=\"df-05056ae6-7817-41fd-8207-5abfe41761d0\" class=\"colab-df-container\">\n",
              "    <div>\n",
              "<style scoped>\n",
              "    .dataframe tbody tr th:only-of-type {\n",
              "        vertical-align: middle;\n",
              "    }\n",
              "\n",
              "    .dataframe tbody tr th {\n",
              "        vertical-align: top;\n",
              "    }\n",
              "\n",
              "    .dataframe thead th {\n",
              "        text-align: right;\n",
              "    }\n",
              "</style>\n",
              "<table border=\"1\" class=\"dataframe\">\n",
              "  <thead>\n",
              "    <tr style=\"text-align: right;\">\n",
              "      <th></th>\n",
              "      <th>Values</th>\n",
              "    </tr>\n",
              "  </thead>\n",
              "  <tbody>\n",
              "    <tr>\n",
              "      <th>count</th>\n",
              "      <td>1000.000000</td>\n",
              "    </tr>\n",
              "    <tr>\n",
              "      <th>mean</th>\n",
              "      <td>-0.007270</td>\n",
              "    </tr>\n",
              "    <tr>\n",
              "      <th>std</th>\n",
              "      <td>0.993032</td>\n",
              "    </tr>\n",
              "    <tr>\n",
              "      <th>min</th>\n",
              "      <td>-2.978302</td>\n",
              "    </tr>\n",
              "    <tr>\n",
              "      <th>25%</th>\n",
              "      <td>-0.657838</td>\n",
              "    </tr>\n",
              "    <tr>\n",
              "      <th>50%</th>\n",
              "      <td>-0.013553</td>\n",
              "    </tr>\n",
              "    <tr>\n",
              "      <th>75%</th>\n",
              "      <td>0.665629</td>\n",
              "    </tr>\n",
              "    <tr>\n",
              "      <th>max</th>\n",
              "      <td>3.709635</td>\n",
              "    </tr>\n",
              "  </tbody>\n",
              "</table>\n",
              "</div>\n",
              "    <div class=\"colab-df-buttons\">\n",
              "\n",
              "  <div class=\"colab-df-container\">\n",
              "    <button class=\"colab-df-convert\" onclick=\"convertToInteractive('df-05056ae6-7817-41fd-8207-5abfe41761d0')\"\n",
              "            title=\"Convert this dataframe to an interactive table.\"\n",
              "            style=\"display:none;\">\n",
              "\n",
              "  <svg xmlns=\"http://www.w3.org/2000/svg\" height=\"24px\" viewBox=\"0 -960 960 960\">\n",
              "    <path d=\"M120-120v-720h720v720H120Zm60-500h600v-160H180v160Zm220 220h160v-160H400v160Zm0 220h160v-160H400v160ZM180-400h160v-160H180v160Zm440 0h160v-160H620v160ZM180-180h160v-160H180v160Zm440 0h160v-160H620v160Z\"/>\n",
              "  </svg>\n",
              "    </button>\n",
              "\n",
              "  <style>\n",
              "    .colab-df-container {\n",
              "      display:flex;\n",
              "      gap: 12px;\n",
              "    }\n",
              "\n",
              "    .colab-df-convert {\n",
              "      background-color: #E8F0FE;\n",
              "      border: none;\n",
              "      border-radius: 50%;\n",
              "      cursor: pointer;\n",
              "      display: none;\n",
              "      fill: #1967D2;\n",
              "      height: 32px;\n",
              "      padding: 0 0 0 0;\n",
              "      width: 32px;\n",
              "    }\n",
              "\n",
              "    .colab-df-convert:hover {\n",
              "      background-color: #E2EBFA;\n",
              "      box-shadow: 0px 1px 2px rgba(60, 64, 67, 0.3), 0px 1px 3px 1px rgba(60, 64, 67, 0.15);\n",
              "      fill: #174EA6;\n",
              "    }\n",
              "\n",
              "    .colab-df-buttons div {\n",
              "      margin-bottom: 4px;\n",
              "    }\n",
              "\n",
              "    [theme=dark] .colab-df-convert {\n",
              "      background-color: #3B4455;\n",
              "      fill: #D2E3FC;\n",
              "    }\n",
              "\n",
              "    [theme=dark] .colab-df-convert:hover {\n",
              "      background-color: #434B5C;\n",
              "      box-shadow: 0px 1px 3px 1px rgba(0, 0, 0, 0.15);\n",
              "      filter: drop-shadow(0px 1px 2px rgba(0, 0, 0, 0.3));\n",
              "      fill: #FFFFFF;\n",
              "    }\n",
              "  </style>\n",
              "\n",
              "    <script>\n",
              "      const buttonEl =\n",
              "        document.querySelector('#df-05056ae6-7817-41fd-8207-5abfe41761d0 button.colab-df-convert');\n",
              "      buttonEl.style.display =\n",
              "        google.colab.kernel.accessAllowed ? 'block' : 'none';\n",
              "\n",
              "      async function convertToInteractive(key) {\n",
              "        const element = document.querySelector('#df-05056ae6-7817-41fd-8207-5abfe41761d0');\n",
              "        const dataTable =\n",
              "          await google.colab.kernel.invokeFunction('convertToInteractive',\n",
              "                                                    [key], {});\n",
              "        if (!dataTable) return;\n",
              "\n",
              "        const docLinkHtml = 'Like what you see? Visit the ' +\n",
              "          '<a target=\"_blank\" href=https://colab.research.google.com/notebooks/data_table.ipynb>data table notebook</a>'\n",
              "          + ' to learn more about interactive tables.';\n",
              "        element.innerHTML = '';\n",
              "        dataTable['output_type'] = 'display_data';\n",
              "        await google.colab.output.renderOutput(dataTable, element);\n",
              "        const docLink = document.createElement('div');\n",
              "        docLink.innerHTML = docLinkHtml;\n",
              "        element.appendChild(docLink);\n",
              "      }\n",
              "    </script>\n",
              "  </div>\n",
              "\n",
              "\n",
              "    <div id=\"df-2c3f87ef-cd2f-4fef-a7bc-30e78afb0939\">\n",
              "      <button class=\"colab-df-quickchart\" onclick=\"quickchart('df-2c3f87ef-cd2f-4fef-a7bc-30e78afb0939')\"\n",
              "                title=\"Suggest charts\"\n",
              "                style=\"display:none;\">\n",
              "\n",
              "<svg xmlns=\"http://www.w3.org/2000/svg\" height=\"24px\"viewBox=\"0 0 24 24\"\n",
              "     width=\"24px\">\n",
              "    <g>\n",
              "        <path d=\"M19 3H5c-1.1 0-2 .9-2 2v14c0 1.1.9 2 2 2h14c1.1 0 2-.9 2-2V5c0-1.1-.9-2-2-2zM9 17H7v-7h2v7zm4 0h-2V7h2v10zm4 0h-2v-4h2v4z\"/>\n",
              "    </g>\n",
              "</svg>\n",
              "      </button>\n",
              "\n",
              "<style>\n",
              "  .colab-df-quickchart {\n",
              "      --bg-color: #E8F0FE;\n",
              "      --fill-color: #1967D2;\n",
              "      --hover-bg-color: #E2EBFA;\n",
              "      --hover-fill-color: #174EA6;\n",
              "      --disabled-fill-color: #AAA;\n",
              "      --disabled-bg-color: #DDD;\n",
              "  }\n",
              "\n",
              "  [theme=dark] .colab-df-quickchart {\n",
              "      --bg-color: #3B4455;\n",
              "      --fill-color: #D2E3FC;\n",
              "      --hover-bg-color: #434B5C;\n",
              "      --hover-fill-color: #FFFFFF;\n",
              "      --disabled-bg-color: #3B4455;\n",
              "      --disabled-fill-color: #666;\n",
              "  }\n",
              "\n",
              "  .colab-df-quickchart {\n",
              "    background-color: var(--bg-color);\n",
              "    border: none;\n",
              "    border-radius: 50%;\n",
              "    cursor: pointer;\n",
              "    display: none;\n",
              "    fill: var(--fill-color);\n",
              "    height: 32px;\n",
              "    padding: 0;\n",
              "    width: 32px;\n",
              "  }\n",
              "\n",
              "  .colab-df-quickchart:hover {\n",
              "    background-color: var(--hover-bg-color);\n",
              "    box-shadow: 0 1px 2px rgba(60, 64, 67, 0.3), 0 1px 3px 1px rgba(60, 64, 67, 0.15);\n",
              "    fill: var(--button-hover-fill-color);\n",
              "  }\n",
              "\n",
              "  .colab-df-quickchart-complete:disabled,\n",
              "  .colab-df-quickchart-complete:disabled:hover {\n",
              "    background-color: var(--disabled-bg-color);\n",
              "    fill: var(--disabled-fill-color);\n",
              "    box-shadow: none;\n",
              "  }\n",
              "\n",
              "  .colab-df-spinner {\n",
              "    border: 2px solid var(--fill-color);\n",
              "    border-color: transparent;\n",
              "    border-bottom-color: var(--fill-color);\n",
              "    animation:\n",
              "      spin 1s steps(1) infinite;\n",
              "  }\n",
              "\n",
              "  @keyframes spin {\n",
              "    0% {\n",
              "      border-color: transparent;\n",
              "      border-bottom-color: var(--fill-color);\n",
              "      border-left-color: var(--fill-color);\n",
              "    }\n",
              "    20% {\n",
              "      border-color: transparent;\n",
              "      border-left-color: var(--fill-color);\n",
              "      border-top-color: var(--fill-color);\n",
              "    }\n",
              "    30% {\n",
              "      border-color: transparent;\n",
              "      border-left-color: var(--fill-color);\n",
              "      border-top-color: var(--fill-color);\n",
              "      border-right-color: var(--fill-color);\n",
              "    }\n",
              "    40% {\n",
              "      border-color: transparent;\n",
              "      border-right-color: var(--fill-color);\n",
              "      border-top-color: var(--fill-color);\n",
              "    }\n",
              "    60% {\n",
              "      border-color: transparent;\n",
              "      border-right-color: var(--fill-color);\n",
              "    }\n",
              "    80% {\n",
              "      border-color: transparent;\n",
              "      border-right-color: var(--fill-color);\n",
              "      border-bottom-color: var(--fill-color);\n",
              "    }\n",
              "    90% {\n",
              "      border-color: transparent;\n",
              "      border-bottom-color: var(--fill-color);\n",
              "    }\n",
              "  }\n",
              "</style>\n",
              "\n",
              "      <script>\n",
              "        async function quickchart(key) {\n",
              "          const quickchartButtonEl =\n",
              "            document.querySelector('#' + key + ' button');\n",
              "          quickchartButtonEl.disabled = true;  // To prevent multiple clicks.\n",
              "          quickchartButtonEl.classList.add('colab-df-spinner');\n",
              "          try {\n",
              "            const charts = await google.colab.kernel.invokeFunction(\n",
              "                'suggestCharts', [key], {});\n",
              "          } catch (error) {\n",
              "            console.error('Error during call to suggestCharts:', error);\n",
              "          }\n",
              "          quickchartButtonEl.classList.remove('colab-df-spinner');\n",
              "          quickchartButtonEl.classList.add('colab-df-quickchart-complete');\n",
              "        }\n",
              "        (() => {\n",
              "          let quickchartButtonEl =\n",
              "            document.querySelector('#df-2c3f87ef-cd2f-4fef-a7bc-30e78afb0939 button');\n",
              "          quickchartButtonEl.style.display =\n",
              "            google.colab.kernel.accessAllowed ? 'block' : 'none';\n",
              "        })();\n",
              "      </script>\n",
              "    </div>\n",
              "\n",
              "  <div id=\"id_bc9b5d81-7d12-42cb-9315-47598ef94768\">\n",
              "    <style>\n",
              "      .colab-df-generate {\n",
              "        background-color: #E8F0FE;\n",
              "        border: none;\n",
              "        border-radius: 50%;\n",
              "        cursor: pointer;\n",
              "        display: none;\n",
              "        fill: #1967D2;\n",
              "        height: 32px;\n",
              "        padding: 0 0 0 0;\n",
              "        width: 32px;\n",
              "      }\n",
              "\n",
              "      .colab-df-generate:hover {\n",
              "        background-color: #E2EBFA;\n",
              "        box-shadow: 0px 1px 2px rgba(60, 64, 67, 0.3), 0px 1px 3px 1px rgba(60, 64, 67, 0.15);\n",
              "        fill: #174EA6;\n",
              "      }\n",
              "\n",
              "      [theme=dark] .colab-df-generate {\n",
              "        background-color: #3B4455;\n",
              "        fill: #D2E3FC;\n",
              "      }\n",
              "\n",
              "      [theme=dark] .colab-df-generate:hover {\n",
              "        background-color: #434B5C;\n",
              "        box-shadow: 0px 1px 3px 1px rgba(0, 0, 0, 0.15);\n",
              "        filter: drop-shadow(0px 1px 2px rgba(0, 0, 0, 0.3));\n",
              "        fill: #FFFFFF;\n",
              "      }\n",
              "    </style>\n",
              "    <button class=\"colab-df-generate\" onclick=\"generateWithVariable('summary')\"\n",
              "            title=\"Generate code using this dataframe.\"\n",
              "            style=\"display:none;\">\n",
              "\n",
              "  <svg xmlns=\"http://www.w3.org/2000/svg\" height=\"24px\"viewBox=\"0 0 24 24\"\n",
              "       width=\"24px\">\n",
              "    <path d=\"M7,19H8.4L18.45,9,17,7.55,7,17.6ZM5,21V16.75L18.45,3.32a2,2,0,0,1,2.83,0l1.4,1.43a1.91,1.91,0,0,1,.58,1.4,1.91,1.91,0,0,1-.58,1.4L9.25,21ZM18.45,9,17,7.55Zm-12,3A5.31,5.31,0,0,0,4.9,8.1,5.31,5.31,0,0,0,1,6.5,5.31,5.31,0,0,0,4.9,4.9,5.31,5.31,0,0,0,6.5,1,5.31,5.31,0,0,0,8.1,4.9,5.31,5.31,0,0,0,12,6.5,5.46,5.46,0,0,0,6.5,12Z\"/>\n",
              "  </svg>\n",
              "    </button>\n",
              "    <script>\n",
              "      (() => {\n",
              "      const buttonEl =\n",
              "        document.querySelector('#id_bc9b5d81-7d12-42cb-9315-47598ef94768 button.colab-df-generate');\n",
              "      buttonEl.style.display =\n",
              "        google.colab.kernel.accessAllowed ? 'block' : 'none';\n",
              "\n",
              "      buttonEl.onclick = () => {\n",
              "        google.colab.notebook.generateWithVariable('summary');\n",
              "      }\n",
              "      })();\n",
              "    </script>\n",
              "  </div>\n",
              "\n",
              "    </div>\n",
              "  </div>\n"
            ],
            "application/vnd.google.colaboratory.intrinsic+json": {
              "type": "dataframe",
              "variable_name": "summary",
              "summary": "{\n  \"name\": \"summary\",\n  \"rows\": 8,\n  \"fields\": [\n    {\n      \"column\": \"Values\",\n      \"properties\": {\n        \"dtype\": \"number\",\n        \"std\": 353.47182033996535,\n        \"min\": -2.978301851168294,\n        \"max\": 1000.0,\n        \"num_unique_values\": 8,\n        \"samples\": [\n          -0.0072701826086533795,\n          -0.013552981531694326,\n          1000.0\n        ],\n        \"semantic_type\": \"\",\n        \"description\": \"\"\n      }\n    }\n  ]\n}"
            }
          },
          "metadata": {},
          "execution_count": 16
        }
      ]
    },
    {
      "cell_type": "markdown",
      "source": [
        "Q16: Plot a boxplot to understand the spread and identify outliers."
      ],
      "metadata": {
        "id": "YnogZ11Owz-z"
      }
    },
    {
      "cell_type": "code",
      "source": [
        "plt.boxplot(sim_data)\n",
        "plt.title('Boxplot')\n",
        "plt.show()"
      ],
      "metadata": {
        "colab": {
          "base_uri": "https://localhost:8080/",
          "height": 452
        },
        "id": "ffFmxcwqwytY",
        "outputId": "8e826390-bd0d-41f3-912c-029f7de204b4"
      },
      "execution_count": 17,
      "outputs": [
        {
          "output_type": "display_data",
          "data": {
            "text/plain": [
              "<Figure size 640x480 with 1 Axes>"
            ],
            "image/png": "[encoded data removed]"
          },
          "metadata": {}
        }
      ]
    },
    {
      "cell_type": "markdown",
      "source": [
        "Q17: Calculate the interquartile range (IQR) of a dataset."
      ],
      "metadata": {
        "id": "K9bEQQBdw7LG"
      }
    },
    {
      "cell_type": "code",
      "source": [
        "Q1 = np.percentile(sim_data, 25)\n",
        "Q3 = np.percentile(sim_data, 75)\n",
        "IQR = Q3 - Q1\n",
        "\n",
        "IQR"
      ],
      "metadata": {
        "colab": {
          "base_uri": "https://localhost:8080/"
        },
        "id": "aEvn_atjw5u4",
        "outputId": "182ce419-be1f-4e27-de76-7e33d092e3ff"
      },
      "execution_count": 18,
      "outputs": [
        {
          "output_type": "execute_result",
          "data": {
            "text/plain": [
              "np.float64(1.323466654330396)"
            ]
          },
          "metadata": {},
          "execution_count": 18
        }
      ]
    },
    {
      "cell_type": "markdown",
      "source": [
        "Q18: Implement Z-score normalization and explain its significance."
      ],
      "metadata": {
        "id": "96xxW2mmxB-8"
      }
    },
    {
      "cell_type": "code",
      "source": [
        "z_scores = (sim_data - np.mean(sim_data)) / np.std(sim_data)\n",
        "\n",
        "# Z-score normalization transforms data into a distribution with a mean of 0 and standard deviation of 1.\n",
        "z_scores"
      ],
      "metadata": {
        "colab": {
          "base_uri": "https://localhost:8080/"
        },
        "id": "wEz873i4w_Z5",
        "outputId": "0757b856-a2a3-4a50-e9ca-d569e7a36f89"
      },
      "execution_count": 19,
      "outputs": [
        {
          "output_type": "execute_result",
          "data": {
            "text/plain": [
              "array([-6.63163530e-02,  1.21303516e+00, -8.57846049e-01,  1.39985563e+00,\n",
              "        5.65717665e-01, -1.83213970e+00, -1.01294058e+00, -5.06668219e-01,\n",
              "        6.21653371e-01, -5.63551392e-01,  6.62106627e-01,  1.38995046e+00,\n",
              "        4.97934428e-02,  4.19458139e-01,  1.45448258e+00,  6.85250937e-01,\n",
              "       -1.42563204e-01, -4.23845526e-01, -1.47647958e+00,  2.76712216e-01,\n",
              "        1.40562069e+00,  7.14987504e-01,  1.77319856e-01, -2.56239192e+00,\n",
              "        1.13712348e+00, -1.12578152e+00, -1.19889911e+00,  1.40836127e+00,\n",
              "       -2.16245862e+00,  2.67421473e-01,  8.61181118e-01, -5.00589817e-02,\n",
              "       -1.29389561e-01,  1.90374341e+00, -7.56020951e-01, -4.76916538e-01,\n",
              "       -1.36146194e+00, -1.61757323e-01,  1.93549179e+00,  2.06211284e+00,\n",
              "        1.97084582e-01,  1.01302992e+00,  1.49657639e+00, -1.87550077e-01,\n",
              "       -5.41526117e-01, -5.23429122e-01,  8.42231632e-01,  1.22490579e+00,\n",
              "        9.05687879e-01,  1.84907363e+00,  7.06105157e-01, -1.43763461e-01,\n",
              "       -9.17922684e-01, -3.44224852e-01, -7.95598540e-03,  1.99119909e-01,\n",
              "        3.62883220e-01, -3.99272108e-01,  1.27919062e+00,  7.43555767e-01,\n",
              "       -1.63919568e-01,  5.53976702e-02, -4.43140158e-01,  2.93241107e-01,\n",
              "        3.82073021e-01, -8.46896043e-01,  4.45755969e-01, -3.15774748e-01,\n",
              "       -1.00745958e+00, -2.36598418e+00,  2.35348290e-01,  1.18474349e+00,\n",
              "        4.98757787e-02, -3.69742418e-01,  9.51938488e-01, -9.78575398e-02,\n",
              "       -1.37015700e+00,  4.60118840e-01, -6.50227394e-01,  4.43332021e-03,\n",
              "        2.14709866e+00, -1.36218720e+00, -8.01044841e-01,  2.14975100e+00,\n",
              "        2.97287237e-01, -3.20076742e-01, -3.56758592e-02,  5.50893116e-01,\n",
              "       -1.31400243e+00,  1.36763504e-01, -1.95312330e-01, -1.20353841e+00,\n",
              "       -1.42998719e+00, -3.03022327e-01,  1.54864607e+00, -1.16514212e+00,\n",
              "       -2.19535986e+00,  2.49806824e-01,  4.62150842e-01, -1.98489053e+00,\n",
              "       -9.87845068e-01,  4.68964014e-02, -1.55783561e+00, -2.70233649e-01,\n",
              "       -9.30697076e-02,  1.42546535e+00,  1.46147399e+00,  6.77231937e-01,\n",
              "       -1.89882595e-01,  6.70277609e-01, -6.86114713e-01,  1.07323904e+00,\n",
              "        1.59323917e+00, -2.43803261e+00, -8.35021060e-01, -9.75263024e-01,\n",
              "       -9.79795210e-02,  5.27881542e-01,  5.81118370e-01, -2.21076408e+00,\n",
              "       -4.88844167e-01, -9.83107648e-01, -4.86465289e-01,  1.78797187e+00,\n",
              "       -1.46822934e+00, -7.17825399e-01, -1.48546361e-02,  2.60757228e+00,\n",
              "        8.21600584e-01, -8.33142454e-01, -3.59429320e-01, -5.74761339e-02,\n",
              "        6.89867579e-02, -7.67974671e-01, -2.74302834e-01, -4.34940636e-01,\n",
              "       -4.36285754e-01,  1.14948506e+00,  3.07074300e-01,  4.62547907e-01,\n",
              "       -9.05461865e-01,  5.44158259e-01,  2.55459598e-01, -2.58263079e-01,\n",
              "        2.12341120e+00, -3.51871352e-01,  4.82450616e-02,  6.47264979e-01,\n",
              "       -7.01093583e-01,  8.95820648e-01, -3.60847626e-01,  1.19152048e+00,\n",
              "       -2.95736473e-01, -5.89810493e-01, -7.80442932e-01, -3.06946501e-01,\n",
              "        8.12744820e-01, -1.01235732e+00,  8.26418582e-01,  6.29466940e-02,\n",
              "       -7.08582974e-01,  1.22961540e+00, -1.50850474e-01, -3.08270639e-01,\n",
              "        9.21874069e-02, -5.26408492e-01, -7.88783638e-01,  6.80141709e-01,\n",
              "       -1.41888829e+00, -1.03395826e+00, -1.12130389e+00,  1.22491649e+00,\n",
              "        1.09426848e-01,  1.07977263e+00, -6.43831711e-01, -1.02447110e+00,\n",
              "        2.57807321e-01, -8.19012583e-02, -1.49198189e+00, -1.60113944e-01,\n",
              "        1.35149502e+00, -1.11782438e+00, -2.74953686e-01,  6.64303025e-01,\n",
              "       -1.13102803e-01, -7.18125740e-01,  5.34900152e-01,  1.32560799e+00,\n",
              "       -1.99122206e+00,  8.88277892e-02,  1.20914637e+00, -2.29894485e+00,\n",
              "        4.40507003e-02,  2.00487496e-01,  6.38329779e-01,  9.33715553e-01,\n",
              "        7.55984591e-01,  3.83255597e-01,  4.37868080e-01, -9.78031787e-01,\n",
              "        9.57392041e-01,  1.82160265e-01,  9.63107951e-01, -4.09181879e-01,\n",
              "       -6.23420071e-01,  7.29896824e-01,  9.26820314e-01,  9.12211446e-02,\n",
              "       -1.78555132e+00,  4.73081505e-01, -2.86164618e+00,  1.10369089e+00,\n",
              "        6.14072365e-01, -1.70790735e-01,  2.85069544e-01, -3.22535684e-01,\n",
              "        9.03935573e-02,  2.89695781e-01,  3.61625056e-01, -6.91523206e-01,\n",
              "       -5.03238118e-01,  6.08035411e-01,  7.81745664e-01, -1.09805094e+00,\n",
              "       -1.02982531e+00,  2.75362892e-01,  8.80659479e-02,  1.55853732e+00,\n",
              "        5.07867203e-01,  1.34182393e-01, -6.94434777e-02, -6.91624904e-01,\n",
              "       -3.22895214e-01, -3.56167994e-01,  1.54972586e+00,  6.99748642e-02,\n",
              "       -3.07843444e-01, -1.05950487e+00,  4.90572441e-01, -3.41889495e-02,\n",
              "       -4.71330147e-01,  7.28095037e-01,  5.35376291e-01,  1.17324712e+00,\n",
              "       -4.70411248e-03, -2.05731037e+00,  9.32067811e-01,  1.77951873e-01,\n",
              "        1.13070180e+00, -3.45744915e-01, -1.04649056e-01,  6.35536527e-01,\n",
              "       -1.06222147e+00, -6.57999333e-01,  8.99152854e-02, -1.02782163e+00,\n",
              "       -1.61921461e+00,  2.04188107e+00, -6.13215595e-01,  5.95808037e-01,\n",
              "        5.86957105e-01, -7.20667023e-01, -3.48600888e-02, -1.74966071e+00,\n",
              "       -4.31064296e-01,  1.08693026e+00, -1.67467796e-01, -1.60503951e+00,\n",
              "        1.18110379e-01, -1.87546110e-01,  7.54251378e-02,  2.04246590e-01,\n",
              "        7.08658810e-02,  1.02786931e+00,  5.99956543e-01,  6.14649424e-01,\n",
              "        1.05241840e+00,  8.75129498e-01,  1.73179298e-01,  5.05767253e-01,\n",
              "       -1.02727686e+00, -3.76418084e-01,  4.22635396e-02, -1.05775884e+00,\n",
              "       -1.83796156e+00, -1.85708189e+00, -1.16022173e-01,  1.02974085e-03,\n",
              "       -9.57481260e-02, -9.33988246e-01,  1.74770303e+00,  2.52612828e-01,\n",
              "        2.42357186e-01,  1.43390686e+00,  1.60335655e+00,  7.81165670e-02,\n",
              "        1.01431941e+00,  1.34722437e+00, -6.27675436e-01,  2.96063500e-01,\n",
              "        1.47142948e+00,  2.22405244e+00,  4.62824875e-01, -2.10027651e-01,\n",
              "        9.15590765e-01,  2.09434617e+00,  1.76800841e+00, -1.11928924e-01,\n",
              "       -1.24442762e+00,  9.66035615e-01, -4.31020526e-01,  9.40135650e-01,\n",
              "        7.73661058e-01,  5.05088009e-01, -5.70226186e-01,  1.46968187e+00,\n",
              "       -4.67456634e-01, -1.46045258e+00, -7.85539076e-01,  7.80376744e-02,\n",
              "       -2.65759316e-01, -1.31397595e+00, -2.99337542e+00, -6.66045924e-01,\n",
              "       -4.40225949e-01, -1.12241020e+00, -1.24605755e+00, -1.57783461e+00,\n",
              "       -5.34135543e-01,  1.12699117e+00, -6.27206632e-01,  1.70966148e-01,\n",
              "        1.79085527e-01, -4.45819710e-01, -7.53059095e-01, -7.05323505e-01,\n",
              "        1.85242244e+00, -5.92262733e-01,  1.06640182e+00,  2.32543105e-01,\n",
              "       -1.60860546e-01, -3.71518968e-01, -4.11625012e-01, -8.33364294e-01,\n",
              "       -1.08078588e+00, -2.04869691e+00,  9.23936765e-01, -8.94983904e-01,\n",
              "        6.41380330e-01, -7.14463551e-01,  1.70033363e+00, -1.48033835e+00,\n",
              "        2.32175727e-01, -1.91947012e-01,  4.51099026e-01,  6.82141596e-01,\n",
              "       -6.23675257e-01, -2.99930726e-01,  2.11848064e+00, -1.27396820e+00,\n",
              "       -9.81985162e-01, -1.08380580e+00,  7.76304987e-01, -2.83187217e-01,\n",
              "       -5.60122901e-01, -1.11001059e+00, -3.92927323e-01,  3.62912275e-01,\n",
              "        4.98081465e-01, -1.96632178e+00,  1.04905795e+00,  3.59424544e-01,\n",
              "        7.77767632e-01, -3.36303901e-01,  1.17377958e+00,  1.55674773e+00,\n",
              "        1.29253705e+00, -5.18332772e-01,  3.96781045e-01,  1.07364267e-01,\n",
              "       -2.07946477e-01,  3.07330774e-01, -3.47577892e-01,  3.00261500e-01,\n",
              "        6.94801011e-01,  9.33578373e-01, -1.28229695e+00, -8.84668118e-01,\n",
              "        8.94342635e-01, -7.32520492e-01,  1.64779312e+00,  2.64379160e-01,\n",
              "       -1.52659594e+00, -4.16187413e-01, -6.47970956e-01,  3.04388563e-01,\n",
              "       -5.62212452e-01,  2.20151546e-01,  9.05749967e-01,  5.53576209e-01,\n",
              "        4.12416603e-02,  5.50583938e-01, -1.20882032e-01, -1.24452373e+00,\n",
              "       -6.38652029e-01,  1.76232187e+00,  1.98634175e+00,  6.43983244e-01,\n",
              "       -1.15767130e+00, -1.57804638e+00, -4.15659852e-01,  4.31371788e-02,\n",
              "        1.37470665e+00, -9.36583735e-01,  6.48283550e-01,  2.94354888e-01,\n",
              "       -5.41912680e-01, -1.46118483e+00,  9.49939132e-01,  8.87159532e-01,\n",
              "        3.89294025e-01, -1.81792387e-01, -4.83370938e-01, -8.82225332e-01,\n",
              "        3.82732331e-01, -8.68495160e-01,  8.95444268e-01,  1.73955981e-01,\n",
              "        8.23461368e-01, -1.15309541e+00, -1.32007606e+00, -1.02054696e+00,\n",
              "        2.31376127e-01, -1.45427714e+00,  2.22557841e+00,  1.07052926e+00,\n",
              "       -2.57065839e-01, -9.84761608e-01,  8.99640580e-01,  9.95952698e-01,\n",
              "        5.51550916e-02,  1.90207665e-01, -5.52197518e-01,  1.25630659e+00,\n",
              "        1.82423500e+00, -7.17529532e-01,  4.13791854e-01,  6.92139948e-02,\n",
              "        1.25982789e-01,  4.00409452e-01, -3.27101376e-01,  2.38100845e+00,\n",
              "       -5.74491501e-01, -4.90460298e-01,  1.24144413e+00, -7.34988018e-01,\n",
              "        3.82140254e-02,  8.66624263e-01, -2.44168281e+00,  1.71531904e+00,\n",
              "       -8.07388361e-01,  1.49588191e+00,  7.69906847e-01,  4.55619273e-01,\n",
              "        1.02445575e+00, -6.65513969e-01,  1.02925511e+00,  1.02884943e+00,\n",
              "        4.66094601e-01,  1.56631374e+00,  4.46640398e-01, -6.31830415e-01,\n",
              "       -2.71516509e-01, -1.71763722e+00,  1.35481891e+00,  5.11730429e-01,\n",
              "       -1.64626744e+00, -3.42829409e-01, -2.14629277e+00,  1.02073707e+00,\n",
              "        1.31068684e+00, -1.70704591e-01, -1.26857831e+00, -1.41830675e+00,\n",
              "        2.98431719e-01, -2.61033237e-01,  1.75557926e+00,  1.02738942e+00,\n",
              "       -4.71620416e-01, -1.44129034e-01,  1.19185364e+00,  1.19896394e+00,\n",
              "       -1.03229433e-02, -2.85686967e+00,  1.46155268e-01,  1.30008482e+00,\n",
              "       -1.28740388e+00, -8.49412040e-01, -8.00960652e-01, -5.81662546e-01,\n",
              "       -1.04387436e+00,  7.98204665e-01,  3.97105984e-01,  8.49922387e-01,\n",
              "       -2.12495220e-01,  2.76974557e-01, -1.41498870e-01,  2.18574097e-01,\n",
              "       -9.53123393e-01, -4.70894326e-01, -4.13160256e-01,  6.26874470e-01,\n",
              "        4.66214767e-01, -1.04795340e+00, -3.21727279e-01, -2.26317976e-01,\n",
              "       -2.17234846e+00,  9.64849243e-01,  1.37341339e+00, -2.47274839e-01,\n",
              "       -2.45874242e+00, -1.50212240e-01,  1.86523679e+00, -6.29646716e-01,\n",
              "        9.79790446e-01, -3.63286183e-01, -3.51608316e-01, -1.24746241e+00,\n",
              "        1.51570518e+00,  6.36847953e-01, -1.27808241e+00,  5.93378542e-01,\n",
              "       -7.95456984e-01,  1.23011690e+00,  1.39409931e-01,  1.58722211e+00,\n",
              "        2.29570007e-01, -8.30163134e-01, -6.04999752e-01, -6.66610128e-01,\n",
              "        2.92322590e-01, -9.50133874e-01,  2.67502975e-01, -2.57960158e-01,\n",
              "       -1.15790267e-01,  8.79511782e-01, -9.29215199e-01,  1.58806698e+00,\n",
              "       -5.23571867e-01, -2.83242777e-01,  7.18800403e-01,  1.46058913e+00,\n",
              "       -7.78345819e-01, -3.27434040e-01,  1.24118565e-01, -3.28842684e-01,\n",
              "       -9.36141575e-01, -5.80456041e-01, -3.44198330e-01, -8.19184756e-01,\n",
              "       -3.40120618e-01, -1.90231143e+00,  4.24255885e-01, -1.36392924e-02,\n",
              "       -2.59222106e-02, -1.35486847e+00,  4.33292640e-01, -6.52994448e-01,\n",
              "        2.54037145e+00, -1.28971613e+00,  2.73730253e+00, -1.33537030e+00,\n",
              "       -1.22051906e+00,  2.55577674e-01, -8.29531807e-01,  9.80326259e-01,\n",
              "        3.02344810e-01,  7.67735956e-01, -6.07785331e-01,  1.19012210e+00,\n",
              "       -8.05849011e-01,  7.24009568e-01,  1.04718356e-01,  3.82935733e-01,\n",
              "        1.55013039e+00,  4.61560387e-01, -2.19525138e-01, -6.51821474e-01,\n",
              "        1.82606998e-03, -9.25950666e-02, -4.79082118e-02,  1.17418896e+00,\n",
              "        9.24017117e-01,  1.81065910e-01, -3.26853166e-01,  2.47529884e-01,\n",
              "        1.83093556e-01,  1.86311218e-01,  2.01132007e-02, -4.83848404e-01,\n",
              "        5.96259660e-01,  9.72176909e-01,  6.47414317e-01,  4.45526459e-01,\n",
              "       -3.46529918e-01,  3.14026061e-01, -2.77441210e-01, -2.62367184e-01,\n",
              "       -1.01259222e+00, -9.23893938e-01, -1.69654053e+00,  1.35190820e-01,\n",
              "        5.85834238e-01,  7.49215950e-01,  7.04731503e-01,  5.53134011e-01,\n",
              "        1.36121622e+00,  8.34486930e-01,  2.37542090e-01, -6.33708794e-01,\n",
              "        6.01465809e-01,  2.36816534e+00, -1.85599396e+00, -6.62228320e-01,\n",
              "       -1.52718339e+00, -9.25502736e-01, -2.90861018e-01,  9.33297268e-01,\n",
              "        1.14684785e+00, -3.10764333e-01, -8.98364229e-01,  1.05735371e+00,\n",
              "        1.20226984e-01, -3.61908039e-01, -1.13262320e-01,  1.95035283e+00,\n",
              "       -3.65870495e-01, -1.00910851e+00, -3.06665246e-01, -9.96631788e-01,\n",
              "        1.82383070e-01, -5.93628965e-02,  1.63939985e-01,  4.91437472e-02,\n",
              "        9.94340679e-01,  8.91264106e-01, -6.92590352e-02, -3.18003932e-01,\n",
              "        2.87197414e+00, -5.45083065e-02, -1.19481866e+00, -3.30003677e-02,\n",
              "        6.95101206e-01,  3.69454034e-02,  1.45468645e+00, -1.87101964e+00,\n",
              "        9.53415328e-01, -4.56861342e-01, -8.57165167e-01,  6.32023403e-01,\n",
              "       -1.75632720e+00, -8.80765928e-02, -1.81014928e+00, -1.92187901e+00,\n",
              "        4.60442699e-02, -4.42751472e-01, -7.97818763e-01, -1.49732230e+00,\n",
              "       -1.42684918e+00, -5.57012681e-01,  1.72536704e+00,  8.17961192e-01,\n",
              "       -8.24376548e-02,  4.13730770e-01, -1.48419933e+00,  1.20229385e+00,\n",
              "       -3.75158104e-01, -2.61015086e-01, -1.33009649e+00,  4.85418848e-01,\n",
              "       -2.81575538e-01, -2.59365107e-01,  2.44915684e+00,  1.86230989e+00,\n",
              "        3.27440935e-01,  1.15998108e+00,  3.74485881e+00, -1.30272584e-01,\n",
              "       -3.21466731e-03, -7.49881572e-01, -2.06058164e+00,  9.36536173e-02,\n",
              "        2.79004663e-01, -1.03145986e+00,  1.08080304e+00, -3.65893720e-01,\n",
              "        5.03723977e-01,  1.25849701e-01, -9.71185347e-01, -1.68603834e+00,\n",
              "        4.28297420e-01,  4.45925357e-01, -5.26501848e-01,  6.31768309e-01,\n",
              "        2.20456072e+00, -4.16814385e-01, -2.00531211e+00,  2.38001371e-01,\n",
              "        3.81677334e-01, -1.09663600e+00,  5.91174930e-01, -1.01431767e+00,\n",
              "        6.62455086e-01,  6.17957903e-01,  8.44980446e-01, -1.50059265e+00,\n",
              "       -8.52403343e-01, -1.81494107e+00,  1.00313043e-01, -7.15869945e-01,\n",
              "       -3.88902355e-01,  1.45500061e+00,  1.63747932e+00,  2.23843262e-01,\n",
              "       -1.24757220e+00,  2.81357533e+00, -7.19259728e-01, -8.88647697e-01,\n",
              "        1.29605966e+00, -8.51862791e-01,  7.35043460e-01, -1.44280160e+00,\n",
              "       -1.03846421e+00, -1.34006377e+00, -9.09739032e-01,  1.02945146e+00,\n",
              "       -2.20169627e+00, -8.47325702e-01, -5.14676037e-02, -1.71317707e+00,\n",
              "        7.76714161e-01, -1.51783813e+00, -1.43329882e+00,  1.90465249e-01,\n",
              "       -1.05632554e+00, -6.23379195e-01,  1.02751290e+00,  9.75398585e-01,\n",
              "        1.44423288e-01,  1.54000281e+00, -9.11911720e-01, -2.07998390e+00,\n",
              "       -4.43958273e-01, -1.09138575e+00, -1.03751466e+00, -1.65022454e-01,\n",
              "        4.36597739e-02, -9.61269844e-01,  3.06405122e-01,  8.29835481e-01,\n",
              "        3.68739800e-01, -1.10208027e+00,  1.30517670e+00,  2.97794687e-01,\n",
              "        1.68263368e+00,  1.65615313e+00, -5.10737848e-01,  1.38096748e-01,\n",
              "       -4.29354494e-01, -1.35395832e-01,  7.26468331e-01, -4.26843265e-01,\n",
              "        1.58078866e+00,  4.33709683e-01, -8.91788482e-01,  2.36509105e-01,\n",
              "       -9.24110820e-01, -1.37001716e+00, -2.25630831e+00,  5.75494484e-01,\n",
              "       -5.62177200e-01, -6.52662086e-01,  3.48047826e-01,  1.05048862e+00,\n",
              "        1.50111691e+00, -7.83400389e-02, -2.12543112e-01, -1.79944586e+00,\n",
              "       -3.97031023e-01, -8.83478032e-01, -9.90784895e-01,  9.53229080e-01,\n",
              "        1.27374685e+00,  5.46475095e-01,  1.03499326e+00, -4.08550628e-02,\n",
              "       -1.71576291e+00, -1.55802318e+00,  4.43249156e-02,  1.38915325e+00,\n",
              "        5.47463607e-01, -2.75238365e+00, -3.17677804e-02,  9.53774485e-01,\n",
              "        1.54414267e+00,  1.30028720e+00,  4.95527915e-01, -7.42816408e-01,\n",
              "       -1.29598993e+00, -6.40784742e-01, -5.73786804e-02, -9.97085273e-01,\n",
              "       -5.12761533e-01, -8.27477515e-01, -4.94346236e-01, -2.37590474e-01,\n",
              "       -2.23387455e+00,  1.72611389e+00, -8.15294198e-02, -1.90318558e-01,\n",
              "       -1.43572366e-01, -6.73343129e-01,  4.30801507e-01,  7.08033788e-01,\n",
              "        7.85680781e-01,  1.75143044e-01,  1.80499448e+00,  7.97846993e-01,\n",
              "       -8.44123494e-02, -1.06591867e+00, -5.91055117e-01, -1.73708951e-01,\n",
              "        1.45535478e+00,  1.37108885e+00, -8.11374269e-01, -8.75119264e-01,\n",
              "       -1.96385413e+00, -4.38742849e-01, -1.57768645e-04, -2.16715518e+00,\n",
              "       -1.36176324e+00,  1.59784192e+00, -6.99790795e-01, -3.69429553e-01,\n",
              "        8.07305542e-02,  6.04485811e-01, -2.54040099e-04,  1.92894054e-01,\n",
              "       -1.45314152e+00,  7.05886106e-01, -6.25300600e-01, -9.07145113e-01,\n",
              "        8.40910045e-01,  4.01743503e-01, -3.20932410e-02,  3.85355551e-01,\n",
              "        1.24870351e+00,  1.51991928e-01, -7.37247212e-01, -1.39888681e+00,\n",
              "        5.40394068e-01,  1.62034135e+00,  1.27079703e-01, -1.40828757e+00,\n",
              "       -1.42803780e+00, -3.59166585e-03, -3.52753783e-01, -3.37795877e-01,\n",
              "        8.30406135e-01,  2.54983409e-01,  1.45780701e-01,  5.32769142e-01,\n",
              "        9.81992837e-01,  1.01684920e+00, -5.49851399e-01,  1.23792790e+00,\n",
              "        1.38995855e+00, -2.88903974e-01,  3.36975535e-01,  1.15914287e+00,\n",
              "        3.43555583e-01,  5.40394470e-01,  3.46731538e-01, -5.79775895e-01,\n",
              "       -1.23738171e+00,  2.45742524e-01,  1.06125447e-02, -3.84977370e-01,\n",
              "        2.66939884e-01,  4.45887218e-01,  4.15377786e-01, -5.76033892e-01,\n",
              "       -1.87854750e+00, -2.22984646e-01, -8.96921121e-01,  1.35588672e+00,\n",
              "       -1.17115720e+00,  3.37923545e-02,  7.55648235e-01, -1.90742847e-01,\n",
              "        1.39231568e+00, -2.55542683e+00,  4.36416137e-01,  8.36030630e-01,\n",
              "        3.78837993e-01,  6.44277708e-01, -1.09327271e+00,  4.50416757e-01,\n",
              "       -1.35176973e+00,  9.47844139e-01, -1.15608114e+00, -2.56416912e-01,\n",
              "        6.57394674e-01, -1.67854938e-01,  3.38097721e-01,  9.99899318e-01,\n",
              "        6.07498107e-01,  1.01700560e+00, -1.25696363e+00, -1.23321901e-01,\n",
              "        2.57826402e+00,  9.99638750e-01, -4.64682189e-01, -6.54614161e-01,\n",
              "       -5.31091324e-01, -1.23615893e+00, -4.70181990e-01,  1.07022218e+00,\n",
              "        4.93168287e-01,  6.44268020e-01,  7.66799188e-01,  9.61354891e-01,\n",
              "        6.73660598e-01,  1.38720373e+00, -2.40205848e-01,  6.20664663e-01,\n",
              "       -2.22485869e-01, -1.22004687e+00, -1.51598803e+00, -5.62171832e-01,\n",
              "        1.82936099e+00,  7.63041946e-01, -8.71713614e-02, -2.05430549e-01,\n",
              "       -3.99081686e-01, -1.79603020e+00, -7.68005168e-01,  2.38070119e+00,\n",
              "        1.37163403e-01, -1.11709592e-01, -4.42116958e-01,  8.01814926e-01,\n",
              "        2.46581958e-01, -2.34345122e-01, -2.04262552e+00,  1.34822554e-01,\n",
              "       -2.31118411e-01, -4.22436133e-01, -1.24590415e+00, -6.69678894e-01,\n",
              "        6.59854828e-01,  1.50902811e-01, -1.19915878e+00, -1.66331144e+00,\n",
              "        5.57165421e-02,  5.32391446e-01,  1.01728463e+00,  7.49118043e-01,\n",
              "        8.51672310e-01,  1.23845986e+00, -1.34339626e-01,  2.02405431e-01,\n",
              "        1.69150798e+00,  1.59738779e-01, -1.36402391e+00,  9.17618247e-01,\n",
              "        1.11484962e+00, -5.89036115e-01, -7.14588580e-01, -4.49617036e-01,\n",
              "        9.74438319e-01,  1.36689666e+00, -8.41359455e-01,  3.37827019e-01,\n",
              "       -2.48500044e-01,  2.18216953e+00, -8.58966347e-02, -6.32858843e-02,\n",
              "        5.32066464e-01,  1.20449659e+00, -1.11749654e+00, -3.61411519e-01,\n",
              "       -2.70153831e-01, -2.42654350e-01,  1.22455505e+00, -2.21508355e-01,\n",
              "       -4.38742228e-02,  1.15042534e+00,  1.06034765e-02, -3.65024231e-02])"
            ]
          },
          "metadata": {},
          "execution_count": 19
        }
      ]
    },
    {
      "cell_type": "markdown",
      "source": [
        "Q19: Compare two datasets using their standard deviations."
      ],
      "metadata": {
        "id": "LYHmn9GQxIQZ"
      }
    },
    {
      "cell_type": "code",
      "source": [
        "data1 = np.random.normal(0, 1, 1000)\n",
        "data2 = np.random.normal(0, 2, 1000)\n",
        "\n",
        "std_dev_data1 = np.std(data1)\n",
        "std_dev_data2 = np.std(data2)\n",
        "\n",
        "std_dev_data1, std_dev_data2"
      ],
      "metadata": {
        "colab": {
          "base_uri": "https://localhost:8080/"
        },
        "id": "Xbh9v3-MxEFr",
        "outputId": "a654c9b5-708b-4030-ae0e-f6e9f401ed62"
      },
      "execution_count": 20,
      "outputs": [
        {
          "output_type": "execute_result",
          "data": {
            "text/plain": [
              "(np.float64(0.9732528329971298), np.float64(2.0065737222727282))"
            ]
          },
          "metadata": {},
          "execution_count": 20
        }
      ]
    },
    {
      "cell_type": "markdown",
      "source": [
        "Q20: Write a Python program to visualize covariance using a heatmap.\n",
        "     "
      ],
      "metadata": {
        "id": "Ts2njfmsxLmQ"
      }
    },
    {
      "cell_type": "code",
      "source": [
        "\n",
        "import seaborn as sns\n",
        "\n",
        "cov_matrix = np.cov(data1, data2)\n",
        "sns.heatmap(cov_matrix, annot=True)\n",
        "plt.title('Covariance Heatmap')\n",
        "plt.show()"
      ],
      "metadata": {
        "colab": {
          "base_uri": "https://localhost:8080/",
          "height": 452
        },
        "id": "M39P70LWxK6q",
        "outputId": "0d46afd0-e149-417e-a055-ccfeb495ffc2"
      },
      "execution_count": 21,
      "outputs": [
        {
          "output_type": "display_data",
          "data": {
            "text/plain": [
              "<Figure size 640x480 with 2 Axes>"
            ],
            "image/png": "[encoded data removed]"
          },
          "metadata": {}
        }
      ]
    },
    {
      "cell_type": "markdown",
      "source": [
        "Q21: Use seaborn to create a correlation matrix for a dataset."
      ],
      "metadata": {
        "id": "G43ujzO9xQ88"
      }
    },
    {
      "cell_type": "code",
      "source": [
        "corr_matrix = np.corrcoef(data1, data2)\n",
        "sns.heatmap(corr_matrix, annot=True)\n",
        "plt.title('Correlation Matrix')\n",
        "plt.show()"
      ],
      "metadata": {
        "colab": {
          "base_uri": "https://localhost:8080/",
          "height": 452
        },
        "id": "x9Uy8NiPxPiq",
        "outputId": "9be8a82a-3d06-48a3-b18e-8436c7355e1c"
      },
      "execution_count": 22,
      "outputs": [
        {
          "output_type": "display_data",
          "data": {
            "text/plain": [
              "<Figure size 640x480 with 2 Axes>"
            ],
            "image/png": "[encoded data removed]"
          },
          "metadata": {}
        }
      ]
    },
    {
      "cell_type": "markdown",
      "source": [
        "Q22: Generate a dataset and implement both variance and standard deviation computations.\n",
        "\n"
      ],
      "metadata": {
        "id": "LKMchOsRxVpd"
      }
    },
    {
      "cell_type": "code",
      "source": [
        "new_data = np.random.normal(0, 1, 1000)\n",
        "variance = np.var(new_data)\n",
        "std_dev = np.std(new_data)\n",
        "\n",
        "variance, std_dev"
      ],
      "metadata": {
        "colab": {
          "base_uri": "https://localhost:8080/"
        },
        "id": "fitUE1YvxU1P",
        "outputId": "0dc3eeed-b2d4-4b73-d695-aabe5b9d261d"
      },
      "execution_count": 23,
      "outputs": [
        {
          "output_type": "execute_result",
          "data": {
            "text/plain": [
              "(np.float64(1.0805573585400907), np.float64(1.0394986092054623))"
            ]
          },
          "metadata": {},
          "execution_count": 23
        }
      ]
    },
    {
      "cell_type": "markdown",
      "source": [
        "Q23: Visualize skewness and kurtosis using Python libraries.\n"
      ],
      "metadata": {
        "id": "1BzwVjzExckS"
      }
    },
    {
      "cell_type": "code",
      "source": [
        "fig, ax = plt.subplots(1, 2, figsize=(12, 6))\n",
        "sns.histplot(new_data, kde=True, ax=ax[0])\n",
        "ax[0].set_title('Histogram')\n",
        "ax[1].set_title('Boxplot')\n",
        "sns.boxplot(x=new_data, ax=ax[1])\n",
        "plt.show()"
      ],
      "metadata": {
        "colab": {
          "base_uri": "https://localhost:8080/",
          "height": 545
        },
        "id": "9Z3PNTaJxal_",
        "outputId": "11c1c4a9-c1a4-40b6-cd66-636d35148415"
      },
      "execution_count": 24,
      "outputs": [
        {
          "output_type": "display_data",
          "data": {
            "text/plain": [
              "<Figure size 1200x600 with 2 Axes>"
            ],
            "image/png": "[encoded data removed]"
          },
          "metadata": {}
        }
      ]
    },
    {
      "cell_type": "markdown",
      "source": [
        "Q24: Implement the Pearson and Spearman correlation coefficients\n"
      ],
      "metadata": {
        "id": "g3SwqJBTxbXg"
      }
    },
    {
      "cell_type": "code",
      "source": [
        "pearson_corr = stats.pearsonr(x, y)\n",
        "spearman_corr = stats.spearmanr(x, y)\n",
        "\n",
        "pearson_corr, spearman_corr"
      ],
      "metadata": {
        "colab": {
          "base_uri": "https://localhost:8080/"
        },
        "id": "275RpC89xlh2",
        "outputId": "73050caf-317a-4183-bb88-b597322af332"
      },
      "execution_count": 25,
      "outputs": [
        {
          "output_type": "execute_result",
          "data": {
            "text/plain": [
              "(PearsonRResult(statistic=np.float64(0.9999999999999998), pvalue=np.float64(1.3415758552508146e-08)),\n",
              " SignificanceResult(statistic=np.float64(1.0), pvalue=np.float64(0.0)))"
            ]
          },
          "metadata": {},
          "execution_count": 25
        }
      ]
    }
  ]
}